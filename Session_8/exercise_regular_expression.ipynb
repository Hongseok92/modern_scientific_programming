{
 "cells": [
  {
   "cell_type": "markdown",
   "metadata": {},
   "source": [
    "# Basic exercises"
   ]
  },
  {
   "cell_type": "code",
   "execution_count": 3,
   "metadata": {},
   "outputs": [],
   "source": [
    "import re"
   ]
  },
  {
   "cell_type": "markdown",
   "metadata": {},
   "source": [
    "`#1` Write a Python program that matches a string that has an a followed by zero or more b's."
   ]
  },
  {
   "cell_type": "code",
   "execution_count": 4,
   "metadata": {},
   "outputs": [
    {
     "data": {
      "text/plain": [
       "<re.Match object; span=(0, 9), match='abbbbbbbb'>"
      ]
     },
     "execution_count": 4,
     "metadata": {},
     "output_type": "execute_result"
    }
   ],
   "source": [
    "re.compile('ab*').match(\"abbbbbbbb\")"
   ]
  },
  {
   "cell_type": "code",
   "execution_count": 5,
   "metadata": {},
   "outputs": [
    {
     "data": {
      "text/plain": [
       "<re.Match object; span=(0, 1), match='a'>"
      ]
     },
     "execution_count": 5,
     "metadata": {},
     "output_type": "execute_result"
    }
   ],
   "source": [
    "re.compile('ab*').match(\"a\")"
   ]
  },
  {
   "cell_type": "code",
   "execution_count": 6,
   "metadata": {},
   "outputs": [
    {
     "name": "stdout",
     "output_type": "stream",
     "text": [
      "a: <re.Match object; span=(0, 1), match='a'>\n",
      "ab: <re.Match object; span=(0, 2), match='ab'>\n",
      "abbb: <re.Match object; span=(0, 4), match='abbb'>\n"
     ]
    }
   ],
   "source": [
    "test = ['a', 'ab', 'abbb']\n",
    "regex = re.compile('ab*')\n",
    "for t in test:\n",
    "    m = regex.match(t)\n",
    "    print(f\"{t}: {m}\")"
   ]
  },
  {
   "cell_type": "markdown",
   "metadata": {},
   "source": [
    "`#2` Write a Python program that matches a string that has an a followed by one or more b's."
   ]
  },
  {
   "cell_type": "code",
   "execution_count": 7,
   "metadata": {},
   "outputs": [
    {
     "name": "stdout",
     "output_type": "stream",
     "text": [
      "a: None\n",
      "ab: <re.Match object; span=(0, 2), match='ab'>\n",
      "abbb: <re.Match object; span=(0, 4), match='abbb'>\n"
     ]
    }
   ],
   "source": [
    "test = ['a', 'ab', 'abbb']\n",
    "regex = re.compile('ab+')\n",
    "for t in test:\n",
    "    m = regex.match(t)\n",
    "    print(f\"{t}: {m}\")"
   ]
  },
  {
   "cell_type": "markdown",
   "metadata": {},
   "source": [
    "`#3` Write a Python program that matches a string that has an a followed by zero or one 'b'."
   ]
  },
  {
   "cell_type": "code",
   "execution_count": 13,
   "metadata": {},
   "outputs": [
    {
     "name": "stdout",
     "output_type": "stream",
     "text": [
      "a: <re.Match object; span=(0, 1), match='a'>\n",
      "ab: <re.Match object; span=(0, 2), match='ab'>\n",
      "abbb: None\n"
     ]
    }
   ],
   "source": [
    "test = ['a', 'ab', 'abbb']\n",
    "regex = re.compile('ab?$')\n",
    "# regex = re.compile('a|ab')\n",
    "for t in test:\n",
    "    \n",
    "    m = regex.match(t)\n",
    "    print(f\"{t}: {m}\")"
   ]
  },
  {
   "cell_type": "markdown",
   "metadata": {},
   "source": [
    "`#4` Write a Python program that matches a string that has an a followed by three 'b'."
   ]
  },
  {
   "cell_type": "code",
   "execution_count": 14,
   "metadata": {},
   "outputs": [
    {
     "name": "stdout",
     "output_type": "stream",
     "text": [
      "a: None\n",
      "ab: None\n",
      "abbb: <re.Match object; span=(0, 4), match='abbb'>\n"
     ]
    }
   ],
   "source": [
    "test = ['a', 'ab', 'abbb']\n",
    "regex = re.compile('ab{3}$')\n",
    "# regex = re.compile('a|ab')\n",
    "for t in test:\n",
    "    \n",
    "    m = regex.match(t)\n",
    "    print(f\"{t}: {m}\")"
   ]
  },
  {
   "cell_type": "code",
   "execution_count": 18,
   "metadata": {},
   "outputs": [
    {
     "name": "stdout",
     "output_type": "stream",
     "text": [
      "a: None\n",
      "ab: <re.Match object; span=(0, 2), match='ab'>\n",
      "abbb: <re.Match object; span=(0, 2), match='ab'>\n",
      "aaaabbb: <re.Match object; span=(3, 5), match='ab'>\n"
     ]
    }
   ],
   "source": [
    "test = ['a', 'ab', 'abbb', \"aaaabbb\"]\n",
    "regex = re.compile('ab')\n",
    "# regex = re.compile('.*ab')\n",
    "\n",
    "# regex = re.compile('a|ab')\n",
    "for t in test:\n",
    "    \n",
    "    m = regex.search(t)\n",
    "    print(f\"{t}: {m}\")"
   ]
  },
  {
   "cell_type": "markdown",
   "metadata": {},
   "source": [
    "`#5` Write a Python program that matches a string that has an a followed by two to three 'b'."
   ]
  },
  {
   "cell_type": "code",
   "execution_count": 23,
   "metadata": {},
   "outputs": [
    {
     "name": "stdout",
     "output_type": "stream",
     "text": [
      "a: None\n",
      "ab: None\n",
      "abb: <re.Match object; span=(0, 3), match='abb'>\n",
      "abbb: <re.Match object; span=(0, 4), match='abbb'>\n"
     ]
    }
   ],
   "source": [
    "test = ['a', 'ab','abb', 'abbb']\n",
    "regex = re.compile('ab{2,3}')\n",
    "# regex = re.compile('a|ab')\n",
    "for t in test:\n",
    "    \n",
    "    m = regex.match(t)\n",
    "    print(f\"{t}: {m}\")"
   ]
  },
  {
   "cell_type": "markdown",
   "metadata": {},
   "source": [
    "`#6` Write a Python program to find sequences of lowercase letters joined with a underscore."
   ]
  },
  {
   "cell_type": "code",
   "execution_count": 27,
   "metadata": {},
   "outputs": [
    {
     "name": "stdout",
     "output_type": "stream",
     "text": [
      "blois_Tours: None\n",
      "tours_amiens: <re.Match object; span=(0, 12), match='tours_amiens'>\n",
      "parisnantes: None\n"
     ]
    }
   ],
   "source": [
    "test = ['blois_Tours', 'tours_amiens', 'parisnantes']\n",
    "regex = re.compile('[a-z]+_[a-z]+')\n",
    "for t in test:\n",
    "    m = regex.match(t)\n",
    "    print(f\"{t}: {m}\")\n"
   ]
  },
  {
   "cell_type": "markdown",
   "metadata": {},
   "source": [
    "`#7` Write a Python program to find sequences of one upper case letter followed by lower case letters. "
   ]
  },
  {
   "cell_type": "code",
   "execution_count": 29,
   "metadata": {},
   "outputs": [
    {
     "name": "stdout",
     "output_type": "stream",
     "text": [
      "blois_Tours: None\n",
      "tours_amiens: None\n",
      "parisnantes: None\n",
      "Parisnantes: <re.Match object; span=(0, 11), match='Parisnantes'>\n"
     ]
    }
   ],
   "source": [
    "test = ['blois_Tours', 'tours_amiens', 'parisnantes', 'Parisnantes']\n",
    "regex = re.compile('[A-Z][a-z]*')\n",
    "for t in test:\n",
    "    m = regex.match(t)\n",
    "    print(f\"{t}: {m}\")\n"
   ]
  },
  {
   "cell_type": "markdown",
   "metadata": {},
   "source": [
    "`#8` Write a Python program that matches a string that has an 'a' followed by anything, ending in 'b'. "
   ]
  },
  {
   "cell_type": "code",
   "execution_count": 34,
   "metadata": {},
   "outputs": [
    {
     "name": "stdout",
     "output_type": "stream",
     "text": [
      "aanything: None\n",
      "aanythingb: <re.Match object; span=(0, 10), match='aanythingb'>\n",
      "aanythingc: None\n"
     ]
    }
   ],
   "source": [
    "test = ['aanything', 'aanythingb', 'aanythingc']\n",
    "regex = re.compile('a.*b$')\n",
    "for t in test:\n",
    "    m = regex.match(t)\n",
    "    print(f\"{t}: {m}\")\n"
   ]
  },
  {
   "cell_type": "code",
   "execution_count": 37,
   "metadata": {},
   "outputs": [
    {
     "name": "stdout",
     "output_type": "stream",
     "text": [
      "aanything: None\n",
      "aanythingb: <re.Match object; span=(0, 10), match='aanythingb'>\n",
      "('anything',)\n",
      "anything\n",
      "aanythingc: None\n"
     ]
    }
   ],
   "source": [
    "test = ['aanything', 'aanythingb', 'aanythingc']\n",
    "regex = re.compile('a(.*)b$')\n",
    "for t in test:\n",
    "    m = regex.match(t)\n",
    "    print(f\"{t}: {m}\")\n",
    "    if m:\n",
    "        print(m.groups())\n",
    "        print(m.group(1))\n"
   ]
  },
  {
   "cell_type": "code",
   "execution_count": null,
   "metadata": {},
   "outputs": [],
   "source": []
  },
  {
   "cell_type": "markdown",
   "metadata": {},
   "source": [
    "`#9` Write a Python progra to search some literals strings in a string.\n",
    "\n",
    "Sample text : 'The quick brown fox jumps over the lazy dog.'\n",
    "\n",
    "Searched words : 'fox', 'dog', 'horse'"
   ]
  },
  {
   "cell_type": "code",
   "execution_count": 38,
   "metadata": {},
   "outputs": [],
   "source": [
    "s = \"The quick brown fox jumps over the lazy dog.\""
   ]
  },
  {
   "cell_type": "code",
   "execution_count": 44,
   "metadata": {},
   "outputs": [
    {
     "data": {
      "text/plain": [
       "26"
      ]
     },
     "execution_count": 44,
     "metadata": {},
     "output_type": "execute_result"
    }
   ],
   "source": [
    "len(set( list(s[:-1].replace(\" \", \"\").lower()) ))"
   ]
  },
  {
   "cell_type": "code",
   "execution_count": 45,
   "metadata": {},
   "outputs": [],
   "source": [
    "regex = re.compile(\"(dog|fox|horse)\")"
   ]
  },
  {
   "cell_type": "code",
   "execution_count": 46,
   "metadata": {},
   "outputs": [
    {
     "data": {
      "text/plain": [
       "['fox', 'dog']"
      ]
     },
     "execution_count": 46,
     "metadata": {},
     "output_type": "execute_result"
    }
   ],
   "source": [
    "regex.findall(s)"
   ]
  },
  {
   "cell_type": "markdown",
   "metadata": {},
   "source": [
    "## Parsing strings from citec\n",
    "\n",
    "In the citec database, each paper is identified by a unique string as in:\n",
    "\n",
    "`RePEc:eee:matcom:v:22:y:1980:i:2:p:141-150`\n",
    "\n",
    "This string contains many informations about publishing context, but are sometimes incomplete (see following extract)."
   ]
  },
  {
   "cell_type": "code",
   "execution_count": 47,
   "metadata": {},
   "outputs": [],
   "source": [
    "txt = \"\"\"RePEc:aah:aarhec:2000-6\n",
    "RePEc:aah:aarhec:2000-8\n",
    "RePEc:aah:aarhec:2000-9\n",
    "RePEc:aah:aarhec:2000-10\n",
    "RePEc:aah:aarhec:2000-11\n",
    "RePEc:aah:aarhec:2000-12\n",
    "RePEc:aah:aarhec:2000-13\n",
    "RePEc:aah:aarhec:2000-14\n",
    "RePEc:eee:matcom:v:22:y:1980:i:2:p:141-150\n",
    "RePEc:aea:aecrev:v:92:y:2002:i:1:p:220-239\n",
    "RePEc:eee:proeco:v:71:y:2001:i:1-3:p:195-204\n",
    "RePEc:aea:aecrev:v:92:y:2002:i:1:p:16-26\n",
    "RePEc:aea:aecrev:v:92:y:2002:i:1:p:71-92\n",
    "RePEc:aea:aecrev:v:92:y:2002:i:1:p:93-119\n",
    "RePEc:aea:aecrev:v:92:y:2002:i:1:p:120-142\n",
    "RePEc:aea:aecrev:v:92:y:2002:i:1:p:181-197\n",
    "RePEc:aea:aecrev:v:92:y:2002:i:1:p:198-219\n",
    "RePEc:aea:aecrev:v:92:y:2002:i:1:p:220-239\n",
    "RePEc:aea:aecrev:v:92:y:2002:i:1:p:240-258\n",
    "RePEc:aea:aecrev:v:92:y:2002:i:1:p:259-269\n",
    "RePEc:aea:aecrev:v:92:y:2002:i:1:p:270-279\n",
    "RePEc:aea:aecrev:v:92:y:2002:i:1:p:280-294\n",
    "RePEc:aea:aecrev:v:92:y:2002:i:1:p:295-306\n",
    "\"\"\""
   ]
  },
  {
   "cell_type": "code",
   "execution_count": 76,
   "metadata": {},
   "outputs": [],
   "source": [
    "l = str.split(txt, \"\\n\")[:-1]\n",
    "regex_date = re.compile(\"\\d{4}\")\n",
    "dates = [regex_date.findall(e)[0] for e in l]\n",
    "dates"
   ]
  },
  {
   "cell_type": "code",
   "execution_count": 75,
   "metadata": {},
   "outputs": [],
   "source": [
    "years = []\n",
    "for e in l:\n",
    "    m = regex_date.findall(e)\n",
    "    years.append(m[0])"
   ]
  },
  {
   "cell_type": "code",
   "execution_count": null,
   "metadata": {},
   "outputs": [],
   "source": []
  },
  {
   "cell_type": "code",
   "execution_count": 83,
   "metadata": {},
   "outputs": [],
   "source": [
    "txt2 = \"\"\"RePEc:aah:aarhec:2000-6RePEc:aah:aarhec:2000-8\n",
    "RePEc:aah:aarhec:2000-9faskh;iahf\n",
    "RePEc:aah:aarhec:2000-10 RePEc:aah:aarhec:2000-11\n",
    "RePEc:aah:aarhec:2000-12 = \n",
    "RePEc:aah:aarhec:2000-13RePEc:aah:aarhec:2000-14\n",
    "RePEc:eee:matcom:v:22:y:1980:i:2:p:141-150 RePEc:aea:aecrev:v:92:y:2002:i:1:p:220-239\n",
    "RePEc:eee:proeco:v:71:y:2001:i:1-3:p:195-204RePEc:aea:aecrev:v:92:y:2002:i:1:p:16-26\n",
    "RePEc:aea:aecrev:v:92:y:2002:i:1:p:71-92RePEc:aea:aecrev:v:92:y:2002:i:1:p:93-119\n",
    "RePEc:aea:aecrev:v:92:y:2002:i:1:p:120-142RePEc:aea:aecrev:v:92:y:2002:i:1:p:181-197\n",
    "RePEc:aea:aecrev:v:92:y:2002:i:1:p:198-219poiaRePEc:aea:aecrev:v:92:y:2002:i:1:p:220-239\n",
    "RePEc:aea:aecrev:v:92:y:2002:i:1:p:240-258RePEc:aea:aecrev:v:92:y:2002:i:1:p:259-269\n",
    "RePEc:aea:aecrev:v:92:y:2002:i:1:p:270-279RePEc:aea:aecrev:v:92:y:2002:i:1:p:280-294\n",
    "RePEc:aea:aecrev:v:92:y:2002:i:1:p:295-306\"\"\""
   ]
  },
  {
   "cell_type": "code",
   "execution_count": 92,
   "metadata": {},
   "outputs": [],
   "source": [
    "pat1 = \"RePEc:\\w{3}:\\w{6}:(?:v:\\d{1,3}:y:|)(\\d{4})\""
   ]
  },
  {
   "cell_type": "code",
   "execution_count": 93,
   "metadata": {},
   "outputs": [],
   "source": [
    "regex = re.compile(pat1)"
   ]
  },
  {
   "cell_type": "code",
   "execution_count": 94,
   "metadata": {},
   "outputs": [
    {
     "data": {
      "text/plain": [
       "['2000',\n",
       " '2000',\n",
       " '2000',\n",
       " '2000',\n",
       " '2000',\n",
       " '2000',\n",
       " '2000',\n",
       " '2000',\n",
       " '1980',\n",
       " '2002',\n",
       " '2001',\n",
       " '2002',\n",
       " '2002',\n",
       " '2002',\n",
       " '2002',\n",
       " '2002',\n",
       " '2002',\n",
       " '2002',\n",
       " '2002',\n",
       " '2002',\n",
       " '2002',\n",
       " '2002',\n",
       " '2002']"
      ]
     },
     "execution_count": 94,
     "metadata": {},
     "output_type": "execute_result"
    }
   ],
   "source": [
    "regex.findall(txt2)"
   ]
  },
  {
   "cell_type": "code",
   "execution_count": 99,
   "metadata": {},
   "outputs": [
    {
     "data": {
      "text/plain": [
       "'{4}'"
      ]
     },
     "execution_count": 99,
     "metadata": {},
     "output_type": "execute_result"
    }
   ],
   "source": [
    "s = \"{4}\"\n",
    "s"
   ]
  },
  {
   "cell_type": "code",
   "execution_count": 101,
   "metadata": {},
   "outputs": [
    {
     "data": {
      "text/plain": [
       "<re.Match object; span=(0, 3), match='{4}'>"
      ]
     },
     "execution_count": 101,
     "metadata": {},
     "output_type": "execute_result"
    }
   ],
   "source": [
    "re.compile(\"\\{4\\}\").match(s)"
   ]
  },
  {
   "cell_type": "markdown",
   "metadata": {},
   "source": [
    "`#10` Using one regular expression, create a list with only papers published in aarhec and proeco."
   ]
  },
  {
   "cell_type": "code",
   "execution_count": null,
   "metadata": {},
   "outputs": [],
   "source": []
  },
  {
   "cell_type": "markdown",
   "metadata": {},
   "source": [
    "`#11` Using one regular expression, create a list  with information about publisher and publishing date."
   ]
  },
  {
   "cell_type": "markdown",
   "metadata": {},
   "source": [
    "Find a regular expression, which matches email addresses."
   ]
  },
  {
   "cell_type": "code",
   "execution_count": null,
   "metadata": {},
   "outputs": [],
   "source": []
  }
 ],
 "metadata": {
  "kernelspec": {
   "display_name": "Python 3",
   "language": "python",
   "name": "python3"
  },
  "language_info": {
   "codemirror_mode": {
    "name": "ipython",
    "version": 3
   },
   "file_extension": ".py",
   "mimetype": "text/x-python",
   "name": "python",
   "nbconvert_exporter": "python",
   "pygments_lexer": "ipython3",
   "version": "3.7.1"
  }
 },
 "nbformat": 4,
 "nbformat_minor": 2
}
