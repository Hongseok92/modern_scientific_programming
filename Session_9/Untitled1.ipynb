{
 "cells": [
  {
   "cell_type": "code",
   "execution_count": 3,
   "metadata": {},
   "outputs": [],
   "source": [
    "import networkx as nx"
   ]
  },
  {
   "cell_type": "code",
   "execution_count": 4,
   "metadata": {},
   "outputs": [],
   "source": [
    "FG = nx.Graph()\n",
    "FG.add_weighted_edges_from([(1, 2, 0.125), (1, 3, 0.75), (2, 4, 1.2), (3, 4, 0.375)])\n"
   ]
  },
  {
   "cell_type": "code",
   "execution_count": 5,
   "metadata": {},
   "outputs": [
    {
     "data": {
      "text/plain": [
       "<networkx.classes.graph.Graph at 0x7fe8e43eeb00>"
      ]
     },
     "execution_count": 5,
     "metadata": {},
     "output_type": "execute_result"
    }
   ],
   "source": [
    "FG"
   ]
  },
  {
   "cell_type": "code",
   "execution_count": 8,
   "metadata": {},
   "outputs": [
    {
     "name": "stdout",
     "output_type": "stream",
     "text": [
      "(1, {2: {'weight': 0.125}, 3: {'weight': 0.75}})\n",
      "(2, {1: {'weight': 0.125}, 4: {'weight': 1.2}})\n",
      "(3, {1: {'weight': 0.75}, 4: {'weight': 0.375}})\n",
      "(4, {2: {'weight': 1.2}, 3: {'weight': 0.375}})\n"
     ]
    }
   ],
   "source": [
    "for k in FG.adjacency():\n",
    "    print(k)"
   ]
  },
  {
   "cell_type": "code",
   "execution_count": 11,
   "metadata": {},
   "outputs": [
    {
     "data": {
      "text/plain": [
       "EdgeDataView([(1, 2, {'weight': 0.125}), (1, 3, {'weight': 0.75}), (2, 4, {'weight': 1.2}), (3, 4, {'weight': 0.375})])"
      ]
     },
     "execution_count": 11,
     "metadata": {},
     "output_type": "execute_result"
    }
   ],
   "source": [
    "FG.edges.data()"
   ]
  },
  {
   "cell_type": "code",
   "execution_count": 13,
   "metadata": {},
   "outputs": [],
   "source": [
    "gg = petersen = nx.petersen_graph()"
   ]
  },
  {
   "cell_type": "code",
   "execution_count": 25,
   "metadata": {},
   "outputs": [
    {
     "data": {
      "image/png": "[encoded data removed]",
      "text/plain": [
       "<Figure size 432x288 with 1 Axes>"
      ]
     },
     "metadata": {},
     "output_type": "display_data"
    }
   ],
   "source": [
    "gg = nx.lollipop_graph(5,4)\n",
    "nx.draw(gg, with_labels=True)"
   ]
  },
  {
   "cell_type": "code",
   "execution_count": 26,
   "metadata": {},
   "outputs": [
    {
     "data": {
      "text/plain": [
       "\u001b[0;31mSignature:\u001b[0m \u001b[0mnx\u001b[0m\u001b[0;34m.\u001b[0m\u001b[0maverage_clustering\u001b[0m\u001b[0;34m(\u001b[0m\u001b[0mG\u001b[0m\u001b[0;34m,\u001b[0m \u001b[0mnodes\u001b[0m\u001b[0;34m=\u001b[0m\u001b[0;32mNone\u001b[0m\u001b[0;34m,\u001b[0m \u001b[0mweight\u001b[0m\u001b[0;34m=\u001b[0m\u001b[0;32mNone\u001b[0m\u001b[0;34m,\u001b[0m \u001b[0mcount_zeros\u001b[0m\u001b[0;34m=\u001b[0m\u001b[0;32mTrue\u001b[0m\u001b[0;34m)\u001b[0m\u001b[0;34m\u001b[0m\u001b[0;34m\u001b[0m\u001b[0m\n",
       "\u001b[0;31mDocstring:\u001b[0m\n",
       "Compute the average clustering coefficient for the graph G.\n",
       "\n",
       "The clustering coefficient for the graph is the average,\n",
       "\n",
       ".. math::\n",
       "\n",
       "   C = \\frac{1}{n}\\sum_{v \\in G} c_v,\n",
       "\n",
       "where :math:`n` is the number of nodes in `G`.\n",
       "\n",
       "Parameters\n",
       "----------\n",
       "G : graph\n",
       "\n",
       "nodes : container of nodes, optional (default=all nodes in G)\n",
       "   Compute average clustering for nodes in this container.\n",
       "\n",
       "weight : string or None, optional (default=None)\n",
       "   The edge attribute that holds the numerical value used as a weight.\n",
       "   If None, then each edge has weight 1.\n",
       "\n",
       "count_zeros : bool\n",
       "   If False include only the nodes with nonzero clustering in the average.\n",
       "\n",
       "Returns\n",
       "-------\n",
       "avg : float\n",
       "   Average clustering\n",
       "\n",
       "Examples\n",
       "--------\n",
       ">>> G=nx.complete_graph(5)\n",
       ">>> print(nx.average_clustering(G))\n",
       "1.0\n",
       "\n",
       "Notes\n",
       "-----\n",
       "This is a space saving routine; it might be faster\n",
       "to use the clustering function to get a list and then take the average.\n",
       "\n",
       "Self loops are ignored.\n",
       "\n",
       "References\n",
       "----------\n",
       ".. [1] Generalizations of the clustering coefficient to weighted\n",
       "   complex networks by J. Saramäki, M. Kivelä, J.-P. Onnela,\n",
       "   K. Kaski, and J. Kertész, Physical Review E, 75 027105 (2007).\n",
       "   http://jponnela.com/web_documents/a9.pdf\n",
       ".. [2] Marcus Kaiser,  Mean clustering coefficients: the role of isolated\n",
       "   nodes and leafs on clustering measures for small-world networks.\n",
       "   https://arxiv.org/abs/0802.2512\n",
       "\u001b[0;31mFile:\u001b[0m      /opt/pablo/anaconda3/lib/python3.6/site-packages/networkx/algorithms/cluster.py\n",
       "\u001b[0;31mType:\u001b[0m      function\n"
      ]
     },
     "metadata": {},
     "output_type": "display_data"
    }
   ],
   "source": [
    "nx.average_clustering?"
   ]
  },
  {
   "cell_type": "code",
   "execution_count": 15,
   "metadata": {},
   "outputs": [],
   "source": [
    "%matplotlib inline"
   ]
  },
  {
   "cell_type": "code",
   "execution_count": 17,
   "metadata": {},
   "outputs": [
    {
     "data": {
      "text/plain": [
       "\u001b[0;31mSignature:\u001b[0m \u001b[0mnx\u001b[0m\u001b[0;34m.\u001b[0m\u001b[0mpetersen_graph\u001b[0m\u001b[0;34m(\u001b[0m\u001b[0mcreate_using\u001b[0m\u001b[0;34m=\u001b[0m\u001b[0;32mNone\u001b[0m\u001b[0;34m)\u001b[0m\u001b[0;34m\u001b[0m\u001b[0;34m\u001b[0m\u001b[0m\n",
       "\u001b[0;31mDocstring:\u001b[0m Return the Petersen graph.\n",
       "\u001b[0;31mFile:\u001b[0m      /opt/pablo/anaconda3/lib/python3.6/site-packages/networkx/generators/small.py\n",
       "\u001b[0;31mType:\u001b[0m      function\n"
      ]
     },
     "metadata": {},
     "output_type": "display_data"
    }
   ],
   "source": [
    "nx.petersen_graph?"
   ]
  },
  {
   "cell_type": "code",
   "execution_count": 23,
   "metadata": {},
   "outputs": [],
   "source": [
    "red = nx.random_lobster(100, 0.9, 0.9)"
   ]
  },
  {
   "cell_type": "code",
   "execution_count": 24,
   "metadata": {},
   "outputs": [
    {
     "data": {
      "image/png": "[encoded data removed]",
      "text/plain": [
       "<Figure size 432x288 with 1 Axes>"
      ]
     },
     "metadata": {},
     "output_type": "display_data"
    }
   ],
   "source": [
    "nx.draw(red)"
   ]
  },
  {
   "cell_type": "code",
   "execution_count": null,
   "metadata": {},
   "outputs": [],
   "source": []
  }
 ],
 "metadata": {
  "kernelspec": {
   "display_name": "Python 3",
   "language": "python",
   "name": "python3"
  },
  "language_info": {
   "codemirror_mode": {
    "name": "ipython",
    "version": 3
   },
   "file_extension": ".py",
   "mimetype": "text/x-python",
   "name": "python",
   "nbconvert_exporter": "python",
   "pygments_lexer": "ipython3",
   "version": "3.6.8"
  }
 },
 "nbformat": 4,
 "nbformat_minor": 2
}
