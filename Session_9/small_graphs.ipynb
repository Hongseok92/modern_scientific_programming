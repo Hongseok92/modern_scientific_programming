{
 "cells": [
  {
   "cell_type": "markdown",
   "metadata": {},
   "source": [
    "# Introduction to graphs/networks processing"
   ]
  },
  {
   "cell_type": "markdown",
   "metadata": {},
   "source": [
    "## Computing bits"
   ]
  },
  {
   "cell_type": "markdown",
   "metadata": {},
   "source": [
    "### Recursive functions\n",
    " \n",
    "Functions can call themselves !\n",
    "Be sure that the call terminate. Easiest way is to associate to each call a a stricly increasing series of integers and prove this series is bounded."
   ]
  },
  {
   "cell_type": "markdown",
   "metadata": {},
   "source": [
    "### Hash function\n",
    "\n",
    "Maps function of arbitrary size into set of fixed size. Designed so that the probability of two different objects to have the same hash is extremely small."
   ]
  },
  {
   "cell_type": "markdown",
   "metadata": {},
   "source": [
    "### Memory management\n",
    "\n",
    "Computer has several types of memory.\n",
    "\n",
    "| Type of memory | Speed |\n",
    "-----------------|--------\n",
    "| CPU cache ultra            | ultra fast |\n",
    "| random access memory (RAM) | fast, addressable |\n",
    "| hard drive  | slow |\n",
    "| virtual memory (swap) | slow, addressable |\n",
    "\n",
    "The amount of memory can be checked using command `htop`. Algorithm should be designed so that their memory footprint is no bigger than available RAM. Two advices:\n",
    "\n",
    "- ensure there is a generous amount of swap to avoid catastrophic freeze\n",
    "- always design lengthy algorithm in order to get early feedback about their speed\n",
    "(hint: use tqdm)"
   ]
  },
  {
   "cell_type": "markdown",
   "metadata": {},
   "source": [
    "### Virtual machine\n",
    "\n",
    "There are different virtualization systems allowing you to get a real Linux environment on your computer:\n",
    "\n",
    "- Virtualbox\n",
    "    - Virtualbox is conceptually straightforward but requires to know in advance how much memory/disk \n",
    "- Linux Bash Shell on Windows 10 (!!)\n",
    "    - Fully fledged Linux distribution running under Windows.\n",
    "- Docker\n",
    "    - Reproduces preset Linux environment. Ideal for reproducibility."
   ]
  },
  {
   "cell_type": "markdown",
   "metadata": {},
   "source": [
    "## Graphs"
   ]
  },
  {
   "cell_type": "markdown",
   "metadata": {},
   "source": [
    "### What is a graph?\n",
    "\n",
    "A graph aka a network is a collection of:\n",
    "- nodes (aka vertex)\n",
    "- edges (links between two nodes)\n",
    "    \n",
    "![](graph_example.png)\n",
    "   \n",
    "In practical computing, nodes and edges can have arbitrary additional properties (weight, label, direction ...)\n",
    "\n",
    "- directed graphs: each edge has a direction property\n",
    "- multigraph: there can be two edges between two given points"
   ]
  },
  {
   "cell_type": "markdown",
   "metadata": {},
   "source": [
    "### Graph representations\n",
    "\n",
    "There are several ways to represent (encode) a graph:\n",
    "\n",
    "- list of nodes + list of edges\n",
    "- list of edges only\n",
    "- dictionary of neighbors\n",
    "- adjacency matrix"
   ]
  },
  {
   "cell_type": "markdown",
   "metadata": {},
   "source": [
    "### Online ressources\n",
    "\n",
    "#### Libraries\n",
    "\n",
    "- networkx: small to medium size graphs, many algorithms, basic plotting\n",
    "- graphviz: plotting library for small graphs (n_nodes<=200)\n"
   ]
  },
  {
   "cell_type": "markdown",
   "metadata": {},
   "source": [
    "#### Famous toy graphs\n",
    "\n",
    "- complete atlas of graphs [here](https://networkx.github.io/documentation/networkx-1.10/reference/generators.html)\n"
   ]
  },
  {
   "cell_type": "markdown",
   "metadata": {},
   "source": [
    "#### Network sources\n",
    "\n",
    "- https://snap.stanford.edu/data/\n",
    "- https://github.com/gephi/gephi/wiki/Datasets\n",
    "- https://networkdata.ics.uci.edu/resources.php\n",
    "- http://networkrepository.com/"
   ]
  },
  {
   "cell_type": "markdown",
   "metadata": {},
   "source": [
    "### Basic descriptive statistics\n",
    "\n",
    "- number of nodes, edges\n",
    "\n",
    "- density = $\\frac{\\text{number of edges}}{\\text{maximum possible number of edges}}$\n",
    "\n",
    "- degree: number of points connected to a given node (outgoing, ingoing, both)\n",
    "\n",
    "- average degree\n",
    "\n",
    "- distance: shortest path between two nodes (number of edgets)\n",
    "\n",
    "- diameter: maximum distance between any two given node"
   ]
  },
  {
   "cell_type": "markdown",
   "metadata": {},
   "source": [
    "### Topology\n",
    "\n",
    "- subgraphs\n",
    "    - connected graphs\n",
    "    - strongly connected graphs\n",
    "    - (srtongly) connected components\n",
    "    - clique: set of nodes that are all connected to each other (complete subgraph)\n",
    "    - k-connected components (robust to k cuts)\n",
    "    \n",
    "    "
   ]
  },
  {
   "cell_type": "markdown",
   "metadata": {},
   "source": [
    "### Measures\n",
    "\n",
    "- centrality: (most influential node)\n",
    "    - degree\n",
    "    - closeness centrality (avg length of shortest path between node and other nodes)\n",
    "    - betweenness: probability of occurrence of suddenly chosen shortest path\n",
    "    - eigenvector centrality\n",
    "    \n",
    "- degree of clustering\n",
    "    - modularity"
   ]
  },
  {
   "cell_type": "markdown",
   "metadata": {},
   "source": [
    "### Plotting algorithm\n",
    "\n",
    "- force-based\n",
    "- circular\n",
    "- spectral\n",
    "- dessin d'enfant\n",
    "- more layouts: https://gephi.org/tutorials/gephi-tutorial-layouts.pdf"
   ]
  },
  {
   "cell_type": "markdown",
   "metadata": {},
   "source": [
    "## Big graphs\n",
    "\n",
    "The frontier between small and big graph will depend on the kind of application one has in mind. To compute statistics only, networkx can still operate on graphs with millions of nodes. One needs to be careful with handwritten algos though as memory footage can explode quickly.\n",
    "\n",
    "For visualization, networkx and its plotting engine graphviz become useless after a few hundreds of nodes. Specialized applications can increase the limit:\n",
    "\n",
    "- Gephi: up to 100,000 nodes and 1,000,000 edges\n",
    "- graphistry: up to 8M nodes (online GPU based)\n",
    "\n",
    "In general one needs to plot subsets of the data."
   ]
  },
  {
   "cell_type": "markdown",
   "metadata": {},
   "source": [
    "### Construction and storage format\n",
    "\n",
    "One avoids the construction element by element. Hence the graph will be preferably be stored in preprocessed form:\n",
    "- edge list\n",
    "- sparse matrix\n",
    "\n",
    "It is also efficient to use a special file format:\n",
    "- GXF\n",
    "- GML (that one is straightforward to write by hand)\n",
    "\n",
    "There are also special databases for graph data, some of them also implement graph algorithms:\n",
    "\n",
    "- neo4j"
   ]
  }
 ],
 "metadata": {
  "kernelspec": {
   "display_name": "Python 3",
   "language": "python",
   "name": "python3"
  },
  "language_info": {
   "codemirror_mode": {
    "name": "ipython",
    "version": 3
   },
   "file_extension": ".py",
   "mimetype": "text/x-python",
   "name": "python",
   "nbconvert_exporter": "python",
   "pygments_lexer": "ipython3",
   "version": "3.7.1"
  }
 },
 "nbformat": 4,
 "nbformat_minor": 2
}
